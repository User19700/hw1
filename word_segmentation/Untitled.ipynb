{
 "cells": [
  {
   "cell_type": "markdown",
   "id": "93b26f44",
   "metadata": {},
   "source": [
    "# 结巴分词实践"
   ]
  },
  {
   "cell_type": "markdown",
   "id": "4ef61975",
   "metadata": {},
   "source": [
    "## 结巴分词的三种模式"
   ]
  },
  {
   "cell_type": "markdown",
   "id": "03f6e4d8",
   "metadata": {},
   "source": [
    "### 全模式"
   ]
  },
  {
   "cell_type": "markdown",
   "id": "e4764e2e",
   "metadata": {},
   "source": [
    "### 精确模式"
   ]
  },
  {
   "cell_type": "code",
   "execution_count": 13,
   "id": "6cf0a892",
   "metadata": {},
   "outputs": [
    {
     "name": "stdout",
     "output_type": "stream",
     "text": [
      "[精确模式] 我/来到/北京/清华大学\n"
     ]
    }
   ],
   "source": [
    "import jieba\n",
    "\n",
    "text = \"我来到北京清华大学\"\n",
    "seg_list = jieba.cut(text, cut_all=False)  # cut_all=False 表示精确模式\n",
    "print(\"[精确模式] \" + \"/\".join(seg_list))"
   ]
  },
  {
   "cell_type": "markdown",
   "id": "2f9edc83",
   "metadata": {},
   "source": [
    "### 全模式"
   ]
  },
  {
   "cell_type": "code",
   "execution_count": 3,
   "id": "23b5ebb7",
   "metadata": {},
   "outputs": [
    {
     "name": "stdout",
     "output_type": "stream",
     "text": [
      "[全模式] 我/来到/北京/清华/清华大学/华大/大学\n"
     ]
    }
   ],
   "source": [
    "text = \"我来到北京清华大学\"\n",
    "seg_list = jieba.cut(text, cut_all=True)  # cut_all=True 表示全模式\n",
    "print(\"[全模式] \" + \"/\".join(seg_list))"
   ]
  },
  {
   "cell_type": "markdown",
   "id": "d61a0c4a",
   "metadata": {},
   "source": [
    "### 搜索引擎模式"
   ]
  },
  {
   "cell_type": "code",
   "execution_count": 4,
   "id": "7851a711",
   "metadata": {},
   "outputs": [
    {
     "name": "stdout",
     "output_type": "stream",
     "text": [
      "[搜索引擎模式] 小明/硕士/毕业/于/中国/科学/学院/科学院/中国科学院/计算/计算所/，/后/在/日本/京都/大学/日本京都大学/深造\n"
     ]
    }
   ],
   "source": [
    "text = \"小明硕士毕业于中国科学院计算所，后在日本京都大学深造\"\n",
    "seg_list = jieba.cut_for_search(text)  # 搜索引擎模式专用方法\n",
    "print(\"[搜索引擎模式] \" + \"/\".join(seg_list))"
   ]
  },
  {
   "cell_type": "markdown",
   "id": "351a1681",
   "metadata": {},
   "source": [
    "## 载入词典"
   ]
  },
  {
   "cell_type": "code",
   "execution_count": null,
   "id": "742435b0",
   "metadata": {},
   "outputs": [
    {
     "name": "stdout",
     "output_type": "stream",
     "text": [
      "分词结果: 黄/康/即将/是/自然语言/处理/方面/的/高手/。\n"
     ]
    }
   ],
   "source": [
    "import jieba\n",
    "\n",
    "# 先创建或追加自定义词典（避免覆盖）\n",
    "with open(\"userdict.txt\", \"a+\", encoding=\"utf-8\") as f:  # 使用 \"a+\" 追加模式\n",
    "    f.write(\"自然语言处理 10 n\\n\")\n",
    "    f.write(\"黄康 1000\\n\")\n",
    "\n",
    "# 加载自定义词典（确保文件已存在）\n",
    "jieba.load_userdict(\"userdict.txt\")\n",
    "\n",
    "text = \"黄康即将是自然语言处理方面的高手。\"\n",
    "\n",
    "# 关闭HMM以强制使用词典\n",
    "seg_list = jieba.cut(text, HMM=False)\n",
    "print(\"分词结果: \" + \"/\".join(seg_list))"
   ]
  },
  {
   "cell_type": "code",
   "execution_count": null,
   "id": "e9725da4",
   "metadata": {},
   "outputs": [
    {
     "name": "stdout",
     "output_type": "stream",
     "text": [
      "['重点', '大学', '国家', '河北省', '共建']\n"
     ]
    }
   ],
   "source": [
    "import jieba.analyse\n",
    "\n",
    "text = \"燕山大学是河北省人民政府、教育部、工业和信息化部、国家国防科技工业局四方共建的全国重点大学，河北省重点支持的国家一流大学和世界一流学科建设高校，北京高科大学联盟成员。\"\n",
    "\n",
    "# 提取 top-5 关键词\n",
    "keywords = jieba.analyse.textrank(text, topK=5, withWeight=False)\n",
    "\n",
    "print(keywords)\n"
   ]
  },
  {
   "cell_type": "code",
   "execution_count": null,
   "id": "d13cbfa4",
   "metadata": {},
   "outputs": [],
   "source": []
  }
 ],
 "metadata": {
  "kernelspec": {
   "display_name": "Python 3 (ipykernel)",
   "language": "python",
   "name": "python3"
  },
  "language_info": {
   "codemirror_mode": {
    "name": "ipython",
    "version": 3
   },
   "file_extension": ".py",
   "mimetype": "text/x-python",
   "name": "python",
   "nbconvert_exporter": "python",
   "pygments_lexer": "ipython3",
   "version": "3.7.16"
  }
 },
 "nbformat": 4,
 "nbformat_minor": 5
}
